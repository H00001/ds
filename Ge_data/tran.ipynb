{
 "cells": [
  {
   "cell_type": "code",
   "execution_count": 4,
   "metadata": {},
   "outputs": [],
   "source": [
    "from PIL import Image, ImageFilter\n",
    "file  = \"IMG_4651.png\"\n",
    "# 打开要处理的PNG文件\n",
    "image = Image.open(file)\n",
    "\n",
    "# 获取图像的宽和高\n",
    "width, height = image.size\n",
    "\n",
    "# 将图像转换为RGBA格式，便于透明处理\n",
    "image = image.convert('RGBA')\n",
    "\n",
    "# 遍历图像中的每个像素，将白色或接近白色的部分转换为透明\n",
    "for x in range(width):\n",
    "    for y in range(height):\n",
    "        r, g, b, a = image.getpixel((x, y))\n",
    "        # 判断当前像素是否为白色或接近白色，RGB三个通道的值都大于240即认为是白色或接近白色\n",
    "        # if r > 250 and g > 250 and g > 250:\n",
    "        #    image.putpixel((x, y), (r, g, b, 0))\n",
    "        if a==0:\n",
    "            pass\n",
    "        elif (r < 100 and g < 100 and b < 100) or( r==g and r==b ):\n",
    "            #image.putpixel((x, y), (0, 0, 255, 0))\n",
    "            image.putpixel((x, y), (255, 255, 255))\n",
    "        else:\n",
    "            print(\"rgb:%d,%d,%d,%d\" % (r,g,b,a))\n",
    "\n",
    "# 将处理后的图像保存为PNG文件\n",
    "image = image.filter(ImageFilter.SHARPEN)\n",
    "image.save(\"iii.png\", 'PNG')\n"
   ]
  }
 ],
 "metadata": {
  "kernelspec": {
   "display_name": "Python 3",
   "language": "python",
   "name": "python3"
  },
  "language_info": {
   "codemirror_mode": {
    "name": "ipython",
    "version": 3
   },
   "file_extension": ".py",
   "mimetype": "text/x-python",
   "name": "python",
   "nbconvert_exporter": "python",
   "pygments_lexer": "ipython3",
   "version": "3.9.16"
  },
  "orig_nbformat": 4
 },
 "nbformat": 4,
 "nbformat_minor": 2
}
